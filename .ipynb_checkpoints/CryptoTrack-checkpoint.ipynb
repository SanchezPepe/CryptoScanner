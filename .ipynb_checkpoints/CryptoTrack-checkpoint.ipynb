{
 "cells": [
  {
   "cell_type": "code",
   "execution_count": 10,
   "metadata": {},
   "outputs": [],
   "source": [
    "import requests\n",
    "import os\n",
    "import json\n",
    "import pprint\n",
    "from time import sleep\n",
    "import sched\n",
    "from datetime import datetime\n",
    "from time import sleep\n",
    "import time\n",
    "from IPython.display import clear_output\n",
    "import numpy as np\n",
    "import matplotlib.pyplot as plt"
   ]
  },
  {
   "cell_type": "code",
   "execution_count": 2,
   "metadata": {},
   "outputs": [],
   "source": [
    "def clear():\n",
    "    os.system('cls')"
   ]
  },
  {
   "cell_type": "code",
   "execution_count": 3,
   "metadata": {},
   "outputs": [],
   "source": [
    "def reqAPI():\n",
    "    try:\n",
    "        r = requests.get('https://www.cryptopia.co.nz/api/GetMarkets/BTC')\n",
    "        coins = json.loads(r.text)['Data']\n",
    "        if coins is not None:\n",
    "            return coins #lista de diccionarios \n",
    "    except ValueError:\n",
    "        print('Error al hacer el request, intentando nuevamente')\n",
    "        reqAPI()"
   ]
  },
  {
   "cell_type": "code",
   "execution_count": 4,
   "metadata": {},
   "outputs": [],
   "source": [
    "def refreshData():\n",
    "    #API REQUEST\n",
    "    lenDic, coc, last, volC, bVol = 0, 0, 0, 0, 0\n",
    "    ask, bid, spread = 0, 0, 0\n",
    "    old, recent = 0, 0\n",
    "    coins = reqAPI()\n",
    "    while coins is None:\n",
    "        coins = reqAPI()\n",
    "        print(type(coins))\n",
    "    for y in coins:\n",
    "        changeDic = {}\n",
    "        name = y['Label']\n",
    "        if name in dic:\n",
    "            lenDic = len(dic[name])\n",
    "        else:\n",
    "            dic[name] = {}\n",
    "        ts = datetime.utcnow().strftime('%Y-%m-%d %H:%M:%S')\n",
    "        if y['BidPrice'] != 0:\n",
    "            spread = ((y['AskPrice']/y['BidPrice'])-1)*100\n",
    "            spread = round(spread, 2)\n",
    "        changeDic = {'last':y['LastPrice'],\n",
    "                    'sprd':spread,\n",
    "                    'chng':y['Change'],\n",
    "                    'vol': (0, y['Volume']),\n",
    "                    'buyVol': (0, y['BuyVolume'])}\n",
    "        if lenDic != 0: #Si hay registros de precios\n",
    "            #Cambio\n",
    "            recent = [*dic[name]][lenDic-1] #Compara con el más reciente\n",
    "            last = dic[name][recent]['last']\n",
    "            coc = round((y['LastPrice']/last)-1, 2)\n",
    "            #Volumen\n",
    "            last = dic[name][recent]['vol'][1] #Compara el volumen más reciente\n",
    "            #Captura de los valores viejo y nuevo\n",
    "            changeDic['vol'] = (last, y['Volume'])\n",
    "            if last != 0:\n",
    "                volC = round((y['Volume']/last)-1, 2)\n",
    "            elif y['Volume'] == 0:\n",
    "                volC = 0\n",
    "            else:\n",
    "                volC = 1\n",
    "            #BuyVolume\n",
    "            last = dic[name][recent]['buyVol'][1] #(    ,****) \n",
    "            changeDic['buyVol'] = (last, y['BuyVolume'])\n",
    "            if last != 0:\n",
    "                bVol = round(y['BuyVolume']/last-1, 2)\n",
    "            elif y['BuyVolume'] == 0:\n",
    "                bVol = 0\n",
    "            else:\n",
    "                bVol = 1\n",
    "            changeDic['bvc'] = bVol\n",
    "            changeDic['coc'] = coc\n",
    "            changeDic['volC'] = volC\n",
    "            if coc > 0.05 or volC > 0.05 or bVol > 0.05 : #Si el cambio en precios o en volumen es mayor al 5%\n",
    "                if not name in toBuy:\n",
    "                    toBuy[name] = {}\n",
    "                toBuy[name][ts] = changeDic\n",
    "                if name not in top: #Si no existe se agrega el primero\n",
    "                    top[name] = [coc, volC, bVol]\n",
    "                else: #Compara c/u para buscar el máximo\n",
    "                    if top[name][0] < coc:\n",
    "                        top[name][0] = coc\n",
    "                    if top[name][1] < volC:\n",
    "                        top[name][1] = volC\n",
    "                    if top[name][2] < bVol:\n",
    "                        top[name][2] = bVol\n",
    "        if lenDic == 5: \n",
    "            old = [*dic[name]][0] #Registro más viejo\n",
    "            dic[name].pop(old)\n",
    "        #Inserta el nuevo\n",
    "        dic[name][ts] = changeDic"
   ]
  },
  {
   "cell_type": "code",
   "execution_count": 19,
   "metadata": {},
   "outputs": [],
   "source": [
    "#Variables\n",
    "#Diccionarios con los datos\n",
    "def analiza(n):\n",
    "    i = 0\n",
    "    suma = 0\n",
    "    toBuySize = 0\n",
    "    while i < n:\n",
    "        start = time.time()\n",
    "        refreshData()\n",
    "        end = time.time()\n",
    "        suma += end-start\n",
    "        if toBuySize < len(toBuy): #Si se agregó un nvo item a toBuy\n",
    "            #clear()\n",
    "            clear_output()\n",
    "            #plotChanges()\n",
    "            #pp.pprint(toBuy)\n",
    "        i += 1\n",
    "        toBuySize = len(toBuy)\n",
    "        sleep(1.5)\n",
    "        \n",
    "    #Tiempo promedio por respuesta\n",
    "    print('Tiempo promedio de las ejecuciones: ', suma/n)\n"
   ]
  },
  {
   "cell_type": "code",
   "execution_count": 20,
   "metadata": {},
   "outputs": [
    {
     "name": "stdout",
     "output_type": "stream",
     "text": [
      "Tiempo promedio de las ejecuciones:  0.6107186508178711\n"
     ]
    }
   ],
   "source": [
    "#Coin Analisis\n",
    "#pp.pprint(dic)\n",
    "#pp.pprint(dic['$$$/BTC'])\n",
    "pp = pprint.PrettyPrinter(indent=4)\n",
    "dic, toBuy, changeDic = {}, {}, {}\n",
    "top = {}\n",
    "n = input('Ingresar número de pruebas a ejecutar ')\n",
    "if type(n) is str:\n",
    "    n = int(n)\n",
    "    if n > 0:\n",
    "        analiza(n)\n",
    "else:\n",
    "    print('Ingresa un número mayor a 0')"
   ]
  },
  {
   "cell_type": "code",
   "execution_count": 15,
   "metadata": {},
   "outputs": [],
   "source": [
    "def autolabel(rects, xpos='center'):\n",
    "    \"\"\"\n",
    "    Attach a text label above each bar in *rects*, displaying its height.\n",
    "\n",
    "    *xpos* indicates which side to place the text w.r.t. the center of\n",
    "    the bar. It can be one of the following {'center', 'right', 'left'}.\n",
    "    \"\"\"\n",
    "\n",
    "    xpos = xpos.lower()  # normalize the case of the parameter\n",
    "    ha = {'center': 'center', 'right': 'left', 'left': 'right'}\n",
    "    offset = {'center': 0.5, 'right': 0.57, 'left': 0.43}  # x_txt = x + w*off\n",
    "\n",
    "    for rect in rects:\n",
    "        height = rect.get_height()\n",
    "        ax.text(rect.get_x() + rect.get_width()*offset[xpos], 1.01*height,'{}'.format(height), ha=ha[xpos], va='bottom')"
   ]
  },
  {
   "cell_type": "code",
   "execution_count": 28,
   "metadata": {},
   "outputs": [
    {
     "data": {
      "image/png": "[encoded data removed]",
      "text/plain": [
       "<Figure size 432x288 with 1 Axes>"
      ]
     },
     "metadata": {
      "needs_background": "light"
     },
     "output_type": "display_data"
    },
    {
     "data": {
      "text/plain": [
       "<Figure size 2160x360 with 0 Axes>"
      ]
     },
     "metadata": {},
     "output_type": "display_data"
    }
   ],
   "source": [
    "chng, volch, bvolc = [], [], []\n",
    "\n",
    "for i in top:\n",
    "    chng.append(round(top[i][0]*100, 0))\n",
    "    volch.append(round(top[i][1]*100, 0))\n",
    "    bvolc.append(round(top[i][2]*100, 0))\n",
    "    \n",
    "ind = np.arange(len(chng))  # the x locations for the groups\n",
    "width = 0.25  # the width of the bars\n",
    "    \n",
    "fig, ax = plt.subplots()\n",
    "rects1 = ax.bar(ind - width, chng, width, color='SkyBlue', label='Change')\n",
    "rects2 = ax.bar(ind, volch, width, color='IndianRed', label='Vol Change')\n",
    "rects3 = ax.bar(ind + width, bvolc, width, color='Green', label='Buy Vol Change')\n",
    "\n",
    "# Add some text for labels, title and custom x-axis tick labels, etc.\n",
    "ax.set_ylabel('Change %')\n",
    "ax.set_title('Cambio en el mercado de cryptos')\n",
    "\n",
    "ax.set_xticks(ind)\n",
    "ax.set_xticklabels(list(top.keys()))\n",
    "ax.legend()\n",
    "\n",
    "autolabel(rects1, \"center\")\n",
    "autolabel(rects2, \"center\")\n",
    "autolabel(rects3, \"center\")\n",
    "plt.grid(True, linewidth=0.5)\n",
    "plt.figure(figsize=(30,5))\n",
    "plt.show()"
   ]
  },
  {
   "cell_type": "code",
   "execution_count": null,
   "metadata": {},
   "outputs": [],
   "source": []
  }
 ],
 "metadata": {
  "kernelspec": {
   "display_name": "Python 3",
   "language": "python",
   "name": "python3"
  },
  "language_info": {
   "codemirror_mode": {
    "name": "ipython",
    "version": 3
   },
   "file_extension": ".py",
   "mimetype": "text/x-python",
   "name": "python",
   "nbconvert_exporter": "python",
   "pygments_lexer": "ipython3",
   "version": "3.7.0"
  }
 },
 "nbformat": 4,
 "nbformat_minor": 2
}

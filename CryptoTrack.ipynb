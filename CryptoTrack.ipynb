{
 "cells": [
  {
   "cell_type": "code",
   "execution_count": 1,
   "metadata": {},
   "outputs": [],
   "source": [
    "import requests\n",
    "import json\n",
    "import pprint\n",
    "from time import sleep\n",
    "import sched\n",
    "from datetime import datetime\n",
    "from time import sleep\n",
    "import time\n",
    "from IPython.display import clear_output"
   ]
  },
  {
   "cell_type": "code",
   "execution_count": 2,
   "metadata": {},
   "outputs": [],
   "source": [
    "def reqAPI():\n",
    "    r = requests.get('https://www.cryptopia.co.nz/api/GetMarkets/BTC')\n",
    "    coins = json.loads(r.text)['Data']\n",
    "    if type(coins) != 'NoneType':\n",
    "        return coins #lista de diccionarios "
   ]
  },
  {
   "cell_type": "code",
   "execution_count": 3,
   "metadata": {},
   "outputs": [],
   "source": [
    "def refreshData():\n",
    "    #API REQUEST\n",
    "    lenDic, coc, last, volC = 0, 0, 0, 0\n",
    "    old, recent = 0, 0\n",
    "    coins = reqAPI()\n",
    "    for y in coins:\n",
    "        subDic = {}\n",
    "        changeDic = {}\n",
    "        name = y['Label']\n",
    "        if name in dic:\n",
    "            lenDic = len(dic[name])\n",
    "        else:\n",
    "            dic[name] = {}\n",
    "        time = datetime.utcnow().strftime('%Y-%m-%d %H:%M:%S')\n",
    "        if y['BidPrice'] != 0:\n",
    "            spread = ((y['AskPrice']/y['BidPrice'])-1)*100\n",
    "            spread = round(spread, 2)\n",
    "        changeDic = {'last':y['LastPrice'],\n",
    "                     'sprd':spread,\n",
    "                     'chng':y['Change'],\n",
    "                    'vol': (0, y['Volume'])}\n",
    "        if lenDic != 0: #Si hay registros de precios\n",
    "            #Cambio\n",
    "            recent = [*dic[name]][lenDic-1] #Compara con el más reciente\n",
    "            last = dic[name][recent]['last']\n",
    "            coc = round((y['LastPrice']/last)-1, 2)\n",
    "            #Volumen\n",
    "            last = dic[name][recent]['vol'][1] #Compara el volumen más reciente\n",
    "            #Captura de los valores viejo y nuevo\n",
    "            changeDic['vol'] = (last, y['Volume'])\n",
    "            if last != 0:\n",
    "                volC = round((y['Volume']/last)-1, 2)\n",
    "            elif y['Volume'] == 0:\n",
    "                volC = 0\n",
    "            else:\n",
    "                volC = 1\n",
    "            if coc > 0.05 or volC > 0.05: #Si el cambio en precios o en volumen es mayor al 5%\n",
    "                subDic[time] = changeDic\n",
    "                toBuy[name] = subDic\n",
    "            changeDic['coc'] = coc\n",
    "            changeDic['volC'] = volC\n",
    "        if lenDic == 5: \n",
    "            old = [*dic[name]][0] #Registro más viejo\n",
    "            dic[name].pop(old)\n",
    "        #Inserta el nuevo\n",
    "        dic[name][time] = changeDic"
   ]
  },
  {
   "cell_type": "code",
   "execution_count": 4,
   "metadata": {},
   "outputs": [
    {
     "name": "stdout",
     "output_type": "stream",
     "text": [
      "{'LWF/BTC': {'2018-11-08 22:09:12': {'chng': -3.41,\n",
      "                                     'coc': 0.6,\n",
      "                                     'last': 8.5e-07,\n",
      "                                     'sprd': 64.15,\n",
      "                                     'vol': (1777838.74138177, 2675322.5299097),\n",
      "                                     'volC': 0.5}}}\n",
      "Tiempo promedio de las ejecuciones:  0.37358505725860597\n"
     ]
    }
   ],
   "source": [
    "#Variables\n",
    "#Diccionarios con los datos\n",
    "toBuy = {}\n",
    "ask, bid, spread = 0, 0, 0\n",
    "dic, subDic, changeDic = {}, {}, {}\n",
    "pp = pprint.PrettyPrinter(indent=1)\n",
    "i = 0\n",
    "n = 10\n",
    "suma = 0\n",
    "\n",
    "while i < n:\n",
    "    clear_output()\n",
    "    start = time.time()\n",
    "    refreshData()\n",
    "    end = time.time()\n",
    "    suma += end-start\n",
    "    pp.pprint(toBuy)\n",
    "    i += 1\n",
    "    sleep(1.5)\n",
    "\n",
    "#Tiempo promedio por respuesta\n",
    "print('Tiempo promedio de las ejecuciones: ', suma/n)\n",
    "\n"
   ]
  },
  {
   "cell_type": "code",
   "execution_count": 5,
   "metadata": {},
   "outputs": [
    {
     "data": {
      "text/plain": [
       "'\"\\ncoin = \\'BTB/BTC\\'\\n\\npp.pprint(dic[coin])\\n'"
      ]
     },
     "execution_count": 5,
     "metadata": {},
     "output_type": "execute_result"
    }
   ],
   "source": [
    "#Coin Analisis\n",
    "#pp.pprint(dic)\n",
    "#pp.pprint(dic['$$$/BTC'])\n",
    "\"\"\"\"\n",
    "coin = 'BTB/BTC'\n",
    "\n",
    "pp.pprint(dic[coin])\n",
    "\"\"\""
   ]
  },
  {
   "cell_type": "code",
   "execution_count": null,
   "metadata": {},
   "outputs": [],
   "source": []
  }
 ],
 "metadata": {
  "kernelspec": {
   "display_name": "Python 3",
   "language": "python",
   "name": "python3"
  },
  "language_info": {
   "codemirror_mode": {
    "name": "ipython",
    "version": 3
   },
   "file_extension": ".py",
   "mimetype": "text/x-python",
   "name": "python",
   "nbconvert_exporter": "python",
   "pygments_lexer": "ipython3",
   "version": "3.6.4"
  }
 },
 "nbformat": 4,
 "nbformat_minor": 2
}

{
 "cells": [
  {
   "cell_type": "code",
   "execution_count": 1,
   "metadata": {},
   "outputs": [],
   "source": [
    "import requests\n",
    "import os\n",
    "import json\n",
    "import pprint\n",
    "from time import sleep\n",
    "import sched\n",
    "from datetime import datetime\n",
    "from time import sleep\n",
    "import time\n",
    "from IPython.display import clear_output"
   ]
  },
  {
   "cell_type": "code",
   "execution_count": 2,
   "metadata": {},
   "outputs": [],
   "source": [
    "def clear():\n",
    "    os.system('cls')"
   ]
  },
  {
   "cell_type": "code",
   "execution_count": 3,
   "metadata": {},
   "outputs": [],
   "source": [
    "def reqAPI():\n",
    "    try:\n",
    "        r = requests.get('https://www.cryptopia.co.nz/api/GetMarkets/BTC')\n",
    "        coins = json.loads(r.text)['Data']\n",
    "        if coins is not None:\n",
    "            return coins #lista de diccionarios \n",
    "    except ValueError:\n",
    "        print('Error al hacer el request, intentando nuevamente')\n",
    "        reqAPI()"
   ]
  },
  {
   "cell_type": "code",
   "execution_count": 4,
   "metadata": {},
   "outputs": [],
   "source": [
    "def refreshData():\n",
    "    #API REQUEST\n",
    "    lenDic, coc, last, volC, bVol = 0, 0, 0, 0, 0\n",
    "    ask, bid, spread = 0, 0, 0\n",
    "    old, recent = 0, 0\n",
    "    coins = reqAPI()\n",
    "    while coins is None:\n",
    "        coins = reqAPI()\n",
    "        print(type(coins))\n",
    "    for y in coins:\n",
    "        changeDic = {}\n",
    "        name = y['Label']\n",
    "        if name in dic:\n",
    "            lenDic = len(dic[name])\n",
    "        else:\n",
    "            dic[name] = {}\n",
    "        ts = datetime.utcnow().strftime('%Y-%m-%d %H:%M:%S')\n",
    "        if y['BidPrice'] != 0:\n",
    "            spread = ((y['AskPrice']/y['BidPrice'])-1)*100\n",
    "            spread = round(spread, 2)\n",
    "        changeDic = {'last':y['LastPrice'],\n",
    "                    'sprd':spread,\n",
    "                    'chng':y['Change'],\n",
    "                    'vol': (0, y['Volume']),\n",
    "                    'buyVol': (0, y['BuyVolume'])}\n",
    "        if lenDic != 0: #Si hay registros de precios\n",
    "            #Cambio\n",
    "            recent = [*dic[name]][lenDic-1] #Compara con el más reciente\n",
    "            last = dic[name][recent]['last']\n",
    "            coc = round((y['LastPrice']/last)-1, 2)\n",
    "            #Volumen\n",
    "            last = dic[name][recent]['vol'][1] #Compara el volumen más reciente\n",
    "            #Captura de los valores viejo y nuevo\n",
    "            changeDic['vol'] = (last, y['Volume'])\n",
    "            if last != 0:\n",
    "                volC = round((y['Volume']/last)-1, 2)\n",
    "            elif y['Volume'] == 0:\n",
    "                volC = 0\n",
    "            else:\n",
    "                volC = 1\n",
    "            #BuyVolume\n",
    "            last = dic[name][recent]['buyVol'][1] #(    ,****) \n",
    "            changeDic['buyVol'] = (last, y['BuyVolume'])\n",
    "            if last != 0:\n",
    "                bVol = round(y['BuyVolume']/last-1, 2)\n",
    "            elif y['BuyVolume'] == 0:\n",
    "                bVol = 0\n",
    "            else:\n",
    "                bVol = 1\n",
    "            changeDic['bvc'] = bVol\n",
    "            changeDic['coc'] = coc\n",
    "            changeDic['volC'] = volC\n",
    "            if coc > 0.05 or volC > 0.05 or bVol > 0.05 : #Si el cambio en precios o en volumen es mayor al 5%\n",
    "                if not name in toBuy:\n",
    "                    toBuy[name] = {}\n",
    "                toBuy[name][ts] = changeDic\n",
    "                if name not in top: #Si no existe se agrega el primero\n",
    "                    top[name] = {'coc': coc, 'volC': volC, 'bvc': bVol}\n",
    "                else: #Compara c/u para buscar el máximo\n",
    "                    if top[name]['coc'] < coc:\n",
    "                        top[name]['coc'] = coc\n",
    "                    if top[name]['volC'] < volC:\n",
    "                        top[name]['volC'] = volC\n",
    "                    if top[name]['bvc'] < bVol:\n",
    "                        top[name]['bvc'] = bVol\n",
    "        if lenDic == 5: \n",
    "            old = [*dic[name]][0] #Registro más viejo\n",
    "            dic[name].pop(old)\n",
    "        #Inserta el nuevo\n",
    "        dic[name][ts] = changeDic\n"
   ]
  },
  {
   "cell_type": "code",
   "execution_count": 5,
   "metadata": {},
   "outputs": [],
   "source": [
    "#Variables\n",
    "#Diccionarios con los datos\n",
    "def analiza(n):\n",
    "    i = 0\n",
    "    suma = 0\n",
    "    toBuySize = 0\n",
    "    while i < n:\n",
    "        start = time.time()\n",
    "        refreshData()\n",
    "        end = time.time()\n",
    "        suma += end-start\n",
    "        if toBuySize < len(toBuy): #Si se agregó un nvo item a toBuy\n",
    "            clear()\n",
    "            #clear_output()\n",
    "            pp.pprint(toBuy)\n",
    "        i += 1\n",
    "        toBuySize = len(toBuy)\n",
    "        sleep(1.5)\n",
    "        \n",
    "    #Tiempo promedio por respuesta\n",
    "    print('Tiempo promedio de las ejecuciones: ', suma/n)\n"
   ]
  },
  {
   "cell_type": "code",
   "execution_count": null,
   "metadata": {},
   "outputs": [
    {
     "name": "stdout",
     "output_type": "stream",
     "text": [
      "Ingresar número de pruebas a ejecutar 25\n",
      "{   'DEUS/BTC': {   '2018-12-25 02:42:16': {   'buyVol': (   1091269.37673809,\n",
      "                                                             1174602.71007142),\n",
      "                                               'bvc': 0.08,\n",
      "                                               'chng': 10.53,\n",
      "                                               'coc': 0.0,\n",
      "                                               'last': 4.2e-07,\n",
      "                                               'sprd': 13.51,\n",
      "                                               'vol': (   159559.64826986,\n",
      "                                                          159559.64826986),\n",
      "                                               'volC': 0.0}},\n",
      "    'FGC/BTC': {   '2018-12-25 02:42:17': {   'buyVol': (   4451943.90040768,\n",
      "                                                            4451381.9677945),\n",
      "                                              'bvc': -0.0,\n",
      "                                              'chng': 4.79,\n",
      "                                              'coc': 0.1,\n",
      "                                              'last': 3.72e-06,\n",
      "                                              'sprd': 10.39,\n",
      "                                              'vol': (1710.0, 2164.78934604),\n",
      "                                              'volC': 0.27}},\n",
      "    'MONK/BTC': {   '2018-12-25 02:42:17': {   'buyVol': (   349592.46680607,\n",
      "                                                             385306.75252036),\n",
      "                                               'bvc': 0.1,\n",
      "                                               'chng': -5.02,\n",
      "                                               'coc': 0.0,\n",
      "                                               'last': 2.081e-05,\n",
      "                                               'sprd': 4.95,\n",
      "                                               'vol': (   1853.37914451,\n",
      "                                                          1853.37914451),\n",
      "                                               'volC': 0.0}}}\n"
     ]
    }
   ],
   "source": [
    "#Coin Analisis\n",
    "#pp.pprint(dic)\n",
    "#pp.pprint(dic['$$$/BTC'])\n",
    "pp = pprint.PrettyPrinter(indent=4)\n",
    "dic, toBuy, changeDic = {}, {}, {}\n",
    "top = {}\n",
    "n = input('Ingresar número de pruebas a ejecutar ')\n",
    "if type(n) is str:\n",
    "    n = int(n)\n",
    "    if n > 0:\n",
    "        analiza(n)\n",
    "else:\n",
    "    print('Ingresa un número mayor a 0')"
   ]
  },
  {
   "cell_type": "code",
   "execution_count": 12,
   "metadata": {},
   "outputs": [
    {
     "name": "stdout",
     "output_type": "stream",
     "text": [
      "['DEUS/BTC', 'MONK/BTC', 'NLX/BTC']\n",
      "{   'DEUS/BTC': {'bvc': 0.08, 'coc': 0.0, 'volC': 0.0},\n",
      "    'MONK/BTC': {'bvc': 2.48, 'coc': 0.0, 'volC': 0.0},\n",
      "    'NLX/BTC': {'bvc': -0.01, 'coc': -0.01, 'volC': 0.09}}\n"
     ]
    }
   ],
   "source": [
    "#pp.pprint(toBuy['volC'])\n",
    "pp.pprint(list(toBuy.keys()))\n",
    "pp.pprint(top)\n",
    "    \n",
    "    "
   ]
  },
  {
   "cell_type": "code",
   "execution_count": null,
   "metadata": {},
   "outputs": [],
   "source": []
  }
 ],
 "metadata": {
  "kernelspec": {
   "display_name": "Python 3",
   "language": "python",
   "name": "python3"
  },
  "language_info": {
   "codemirror_mode": {
    "name": "ipython",
    "version": 3
   },
   "file_extension": ".py",
   "mimetype": "text/x-python",
   "name": "python",
   "nbconvert_exporter": "python",
   "pygments_lexer": "ipython3",
   "version": "3.7.0"
  }
 },
 "nbformat": 4,
 "nbformat_minor": 2
}
